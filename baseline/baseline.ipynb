{
 "cells": [
  {
   "cell_type": "code",
   "execution_count": 1,
   "metadata": {},
   "outputs": [],
   "source": [
    "import pandas as pd\n",
    "import numpy as np\n",
    "from datetime import datetime\n",
    "import _pickle as pickle\n",
    "import random\n",
    "import scipy.stats as ss"
   ]
  },
  {
   "cell_type": "code",
   "execution_count": 2,
   "metadata": {},
   "outputs": [
    {
     "name": "stdout",
     "output_type": "stream",
     "text": [
      "0:00:00.087626\n"
     ]
    }
   ],
   "source": [
    "startTime = datetime.now()\n",
    "\n",
    "input_age_seq = pickle.load(open(\"../data/baseline/input_age_seq\",\"rb\"))\n",
    "input_sex_seq = pickle.load(open(\"../data/baseline/input_sex_seq\",\"rb\"))\n",
    "input_zip_seq = pickle.load(open(\"../data/baseline/input_zip_seq\",\"rb\"))\n",
    "\n",
    "input_cost_seq = pickle.load(open(\"../data/baseline/input_cost_seq\",\"rb\"))\n",
    "target_cost_seq = pickle.load(open(\"../data/baseline/target_cost_seq\",\"rb\"))\n",
    "\n",
    "input_medical_cost_seq = pickle.load(open(\"../data/baseline/input_medical_cost_seq\",\"rb\"))\n",
    "input_pharmacy_cost_seq = pickle.load(open(\"../data/baseline/input_pharmacy_cost_seq\",\"rb\"))\n",
    "\n",
    "print(datetime.now() - startTime)"
   ]
  },
  {
   "cell_type": "code",
   "execution_count": 3,
   "metadata": {},
   "outputs": [
    {
     "name": "stdout",
     "output_type": "stream",
     "text": [
      "0:00:01.865746\n"
     ]
    }
   ],
   "source": [
    "startTime = datetime.now()\n",
    "\n",
    "input_diag_seq = pickle.load(open(\"../data/advance/input_diag_seq\",\"rb\"))\n",
    "input_drugclass = pickle.load(open(\"../data/baseline/input_drugclass\",\"rb\"))\n",
    "\n",
    "print(datetime.now() - startTime)"
   ]
  },
  {
   "cell_type": "code",
   "execution_count": 4,
   "metadata": {},
   "outputs": [],
   "source": [
    "icd2ccs = pickle.load(open(\"/Users/xxz005/Desktop/RAW_DATA/icd2ccs\",\"rb\"))"
   ]
  },
  {
   "cell_type": "code",
   "execution_count": 5,
   "metadata": {},
   "outputs": [
    {
     "data": {
      "text/plain": [
       "251"
      ]
     },
     "execution_count": 5,
     "metadata": {},
     "output_type": "execute_result"
    }
   ],
   "source": [
    "input_ccs = []\n",
    "ccs2int = {}\n",
    "\n",
    "for p in input_diag_seq:\n",
    "    p_ccs = []\n",
    "    for v in p:\n",
    "        for c in v:\n",
    "            c = c.replace(\".\",\"\")\n",
    "            if c in icd2ccs:\n",
    "                ccs = icd2ccs[c]\n",
    "                if ccs not in ccs2int:\n",
    "                    ccs2int[ccs] = len(ccs2int)\n",
    "                p_ccs.append(ccs2int[ccs])\n",
    "    input_ccs.append(p_ccs)\n",
    "    \n",
    "len(ccs2int)"
   ]
  },
  {
   "cell_type": "code",
   "execution_count": 6,
   "metadata": {},
   "outputs": [
    {
     "data": {
      "text/plain": [
       "306"
      ]
     },
     "execution_count": 6,
     "metadata": {},
     "output_type": "execute_result"
    }
   ],
   "source": [
    "drugclass2int = {}\n",
    "\n",
    "for p in input_drugclass:\n",
    "    for drug in p:\n",
    "        if drug not in drugclass2int:\n",
    "            drugclass2int[drug] = len(drugclass2int)\n",
    "input_int_drugclass = [[drugclass2int[i] for i in p] for p in input_drugclass]      \n",
    "\n",
    "len(drugclass2int)"
   ]
  },
  {
   "cell_type": "code",
   "execution_count": 7,
   "metadata": {},
   "outputs": [
    {
     "data": {
      "text/plain": [
       "437"
      ]
     },
     "execution_count": 7,
     "metadata": {},
     "output_type": "execute_result"
    }
   ],
   "source": [
    "zip2int = {}\n",
    "\n",
    "for p in input_zip_seq:\n",
    "    if p not in zip2int: \n",
    "        zip2int[p] = len(zip2int)\n",
    "\n",
    "input_int_zip = [zip2int[i] for i in input_zip_seq]      \n",
    "len(zip2int)"
   ]
  },
  {
   "cell_type": "code",
   "execution_count": null,
   "metadata": {},
   "outputs": [],
   "source": []
  },
  {
   "cell_type": "code",
   "execution_count": 8,
   "metadata": {},
   "outputs": [],
   "source": [
    "def build_feature(seq, size):    \n",
    "    X = np.zeros((len(seq), size))\n",
    "    for i in range(len(seq)):\n",
    "        value = seq[i]\n",
    "        X[i][value] = 1\n",
    "    return X"
   ]
  },
  {
   "cell_type": "code",
   "execution_count": 9,
   "metadata": {},
   "outputs": [],
   "source": [
    "age_feature = build_feature([i//5 for i in input_age_seq], 4)\n",
    "sex_feature = build_feature([1 if i==\"M\" else 0 for i in input_sex_seq], 2)\n",
    "zip_feature = build_feature(input_int_zip, len(zip2int))\n",
    "\n",
    "cost_feature = np.array([np.log(i+1) for i in input_cost_seq]).reshape(-1,1)\n",
    "medical_cost_feature = np.array([np.log(i+1) for i in input_medical_cost_seq]).reshape(-1,1)\n",
    "pharmacy_cost_feature = np.array([np.log(i+1) for i in input_pharmacy_cost_seq]).reshape(-1,1)"
   ]
  },
  {
   "cell_type": "code",
   "execution_count": 10,
   "metadata": {},
   "outputs": [],
   "source": [
    "ccs_feature = build_feature(input_ccs, len(ccs2int))\n",
    "drugclass_feature = build_feature(input_int_drugclass, len(drugclass2int))"
   ]
  },
  {
   "cell_type": "code",
   "execution_count": 11,
   "metadata": {},
   "outputs": [],
   "source": [
    "features = [age_feature, sex_feature, zip_feature, cost_feature, medical_cost_feature, pharmacy_cost_feature,\\\n",
    "            ccs_feature, drugclass_feature]\n",
    "\n",
    "X = np.concatenate(features, axis =1)"
   ]
  },
  {
   "cell_type": "code",
   "execution_count": 12,
   "metadata": {},
   "outputs": [
    {
     "data": {
      "text/plain": [
       "((143102, 1003), (143102, 437))"
      ]
     },
     "execution_count": 12,
     "metadata": {},
     "output_type": "execute_result"
    }
   ],
   "source": [
    "X.shape, zip_feature.shape"
   ]
  },
  {
   "cell_type": "code",
   "execution_count": 18,
   "metadata": {},
   "outputs": [],
   "source": [
    "# y = np.array([max(0,x)/1000 for x in target_cost_seq])\n",
    "\n",
    "y = np.array([np.log(i+1) for i in target_cost_seq])\n",
    "# y = np.array([x/len(target_cost_seq) for x in ss.rankdata(target_cost_seq)])"
   ]
  },
  {
   "cell_type": "code",
   "execution_count": null,
   "metadata": {},
   "outputs": [],
   "source": []
  },
  {
   "cell_type": "code",
   "execution_count": 14,
   "metadata": {},
   "outputs": [],
   "source": [
    "from sklearn.model_selection import train_test_split\n",
    "from sklearn import metrics\n",
    "import scipy"
   ]
  },
  {
   "cell_type": "code",
   "execution_count": null,
   "metadata": {},
   "outputs": [],
   "source": []
  },
  {
   "cell_type": "code",
   "execution_count": 15,
   "metadata": {},
   "outputs": [],
   "source": [
    "def result(y_true, y_pred):\n",
    "    return metrics.mean_absolute_error(y_true, y_pred), \\\n",
    "           metrics.r2_score(y_true, y_pred),\\\n",
    "           np.sqrt(metrics.mean_squared_error(y_true, y_pred)),\\\n",
    "           scipy.stats.pearsonr(y_true, y_pred)[0]\n",
    "\n",
    "def generate_result(model, seed):\n",
    "    idx_train, idx_val = train_test_split(range(len(y)), train_size=0.85, random_state=seed)\n",
    "    idx_train, idx_test = train_test_split(range(len(idx_train)), train_size=0.82, random_state=seed)\n",
    "    \n",
    "    model.fit(X[idx_train], y[idx_train])\n",
    "    \n",
    "    y_pred = model.predict(X[idx_test])\n",
    "    mae, r2, rmse, pcc = result(y[idx_test], y_pred)\n",
    "    return mae, r2, rmse, pcc\n",
    "\n",
    "def display(list_eva):\n",
    "    for list_ in list_eva:\n",
    "        print(np.mean(list_), np.std(list_))\n",
    "        print()"
   ]
  },
  {
   "cell_type": "code",
   "execution_count": null,
   "metadata": {},
   "outputs": [],
   "source": []
  },
  {
   "cell_type": "markdown",
   "metadata": {},
   "source": [
    "# Lasso"
   ]
  },
  {
   "cell_type": "code",
   "execution_count": 16,
   "metadata": {},
   "outputs": [],
   "source": [
    "from sklearn import linear_model"
   ]
  },
  {
   "cell_type": "code",
   "execution_count": 19,
   "metadata": {},
   "outputs": [
    {
     "name": "stdout",
     "output_type": "stream",
     "text": [
      "1.1105001061210653 0.010025314585897272\n",
      "\n",
      "0.23071742324385144 0.0058909226544947785\n",
      "\n",
      "1.6754710340913916 0.01790564622178337\n",
      "\n",
      "0.480435868852463 0.006187625377678258\n",
      "\n"
     ]
    }
   ],
   "source": [
    "mae_list, r2_list, rmse_list, pcc_list = [], [], [], []\n",
    "\n",
    "for i in range(5):\n",
    "    regr = linear_model.Lasso(alpha=0.0001)\n",
    "    mae, r2, rmse, pcc = generate_result(regr, seed=i)\n",
    "    mae_list.append(mae)\n",
    "    r2_list.append(r2)\n",
    "    rmse_list.append(rmse)\n",
    "    pcc_list.append(pcc)\n",
    "    \n",
    "display([mae_list, r2_list, rmse_list, pcc_list])"
   ]
  },
  {
   "cell_type": "code",
   "execution_count": null,
   "metadata": {},
   "outputs": [],
   "source": []
  },
  {
   "cell_type": "code",
   "execution_count": 24,
   "metadata": {
    "scrolled": true
   },
   "outputs": [
    {
     "name": "stdout",
     "output_type": "stream",
     "text": [
      "1.1144221258018299 0.009672559328535\n",
      "\n",
      "0.22836446556454612 0.00539365593891125\n",
      "\n",
      "1.6780354464201153 0.01793046387518555\n",
      "\n",
      "0.4780530394244226 0.0055930411519516466\n",
      "\n"
     ]
    }
   ],
   "source": [
    "mae_list, r2_list, rmse_list, pcc_list = [], [], [], []\n",
    "\n",
    "for i in range(5):\n",
    "    regr = linear_model.Ridge()\n",
    "    mae, r2, rmse, pcc = generate_result(regr, seed=i)\n",
    "    mae_list.append(mae)\n",
    "    r2_list.append(r2)\n",
    "    rmse_list.append(rmse)\n",
    "    pcc_list.append(pcc)\n",
    "    \n",
    "display([mae_list, r2_list, rmse_list, pcc_list])"
   ]
  },
  {
   "cell_type": "code",
   "execution_count": null,
   "metadata": {},
   "outputs": [],
   "source": []
  },
  {
   "cell_type": "code",
   "execution_count": null,
   "metadata": {},
   "outputs": [],
   "source": []
  },
  {
   "cell_type": "code",
   "execution_count": null,
   "metadata": {},
   "outputs": [],
   "source": []
  },
  {
   "cell_type": "markdown",
   "metadata": {},
   "source": [
    "# DT"
   ]
  },
  {
   "cell_type": "code",
   "execution_count": 17,
   "metadata": {},
   "outputs": [],
   "source": [
    "from sklearn.tree import DecisionTreeRegressor"
   ]
  },
  {
   "cell_type": "code",
   "execution_count": 18,
   "metadata": {},
   "outputs": [
    {
     "name": "stdout",
     "output_type": "stream",
     "text": [
      "0.2386839441091869 0.00124350684704552\n",
      "\n",
      "-0.13387190065374371 0.010525747840330404\n",
      "\n",
      "0.3090639317216862 0.0017004594121298692\n",
      "\n",
      "0.4228699685864864 0.005563967329324237\n",
      "\n"
     ]
    }
   ],
   "source": [
    "mae_list, r2_list, rmse_list, pcc_list = [], [], [], []\n",
    "\n",
    "for i in range(5):\n",
    "    regr = DecisionTreeRegressor()\n",
    "\n",
    "    mae, r2, rmse, pcc = generate_result(regr, seed=i)\n",
    "    mae_list.append(mae)\n",
    "    r2_list.append(r2)\n",
    "    rmse_list.append(rmse)\n",
    "    pcc_list.append(pcc)\n",
    "    \n",
    "display([mae_list, r2_list, rmse_list, pcc_list])"
   ]
  },
  {
   "cell_type": "code",
   "execution_count": null,
   "metadata": {},
   "outputs": [],
   "source": []
  },
  {
   "cell_type": "code",
   "execution_count": null,
   "metadata": {},
   "outputs": [],
   "source": []
  },
  {
   "cell_type": "markdown",
   "metadata": {},
   "source": [
    "# RF"
   ]
  },
  {
   "cell_type": "code",
   "execution_count": 19,
   "metadata": {},
   "outputs": [],
   "source": [
    "from sklearn.ensemble import RandomForestRegressor"
   ]
  },
  {
   "cell_type": "code",
   "execution_count": 20,
   "metadata": {},
   "outputs": [
    {
     "name": "stdout",
     "output_type": "stream",
     "text": [
      "0.18892604995051904 0.0007533077862002474\n",
      "\n",
      "0.3259550128825864 0.0034643211185408688\n",
      "\n",
      "0.23829346232571016 0.000610604011100442\n",
      "\n",
      "0.5824057357152246 0.002517882628424136\n",
      "\n"
     ]
    }
   ],
   "source": [
    "mae_list, r2_list, rmse_list, pcc_list = [], [], [], []\n",
    "\n",
    "for i in range(5):\n",
    "    regr = RandomForestRegressor(n_estimators=10)\n",
    "\n",
    "    mae, r2, rmse, pcc = generate_result(regr, seed=i)\n",
    "    mae_list.append(mae)\n",
    "    r2_list.append(r2)\n",
    "    rmse_list.append(rmse)\n",
    "    pcc_list.append(pcc)\n",
    "    \n",
    "display([mae_list, r2_list, rmse_list, pcc_list])"
   ]
  },
  {
   "cell_type": "code",
   "execution_count": null,
   "metadata": {},
   "outputs": [],
   "source": []
  },
  {
   "cell_type": "markdown",
   "metadata": {},
   "source": [
    "# XGboost"
   ]
  },
  {
   "cell_type": "code",
   "execution_count": 72,
   "metadata": {},
   "outputs": [],
   "source": [
    "from xgboost import XGBRegressor as xgbr"
   ]
  },
  {
   "cell_type": "code",
   "execution_count": 22,
   "metadata": {},
   "outputs": [
    {
     "name": "stdout",
     "output_type": "stream",
     "text": [
      "[11:50:25] WARNING: src/objective/regression_obj.cu:152: reg:linear is now deprecated in favor of reg:squarederror.\n",
      "[11:53:30] WARNING: src/objective/regression_obj.cu:152: reg:linear is now deprecated in favor of reg:squarederror.\n",
      "[11:56:45] WARNING: src/objective/regression_obj.cu:152: reg:linear is now deprecated in favor of reg:squarederror.\n",
      "[11:59:52] WARNING: src/objective/regression_obj.cu:152: reg:linear is now deprecated in favor of reg:squarederror.\n",
      "[12:02:54] WARNING: src/objective/regression_obj.cu:152: reg:linear is now deprecated in favor of reg:squarederror.\n",
      "0.18541524512248886 0.001485148962431849\n",
      "\n",
      "0.3756330605005225 0.005635216942190714\n",
      "\n",
      "0.22934384043448502 0.0012889376611867785\n",
      "\n",
      "0.6131753311595484 0.004701173462523285\n",
      "\n"
     ]
    }
   ],
   "source": [
    "mae_list, r2_list, rmse_list, pcc_list = [], [], [], []\n",
    "\n",
    "for i in range(5):\n",
    "    regr = xgbr()\n",
    "\n",
    "    mae, r2, rmse, pcc = generate_result(regr, seed=i)\n",
    "    mae_list.append(mae)\n",
    "    r2_list.append(r2)\n",
    "    rmse_list.append(rmse)\n",
    "    pcc_list.append(pcc)\n",
    "    \n",
    "display([mae_list, r2_list, rmse_list, pcc_list])"
   ]
  },
  {
   "cell_type": "code",
   "execution_count": null,
   "metadata": {},
   "outputs": [],
   "source": []
  },
  {
   "cell_type": "markdown",
   "metadata": {},
   "source": [
    "# FNN"
   ]
  },
  {
   "cell_type": "code",
   "execution_count": 32,
   "metadata": {},
   "outputs": [],
   "source": [
    "import tensorflow as tf\n",
    "from tensorflow import keras\n",
    "from tensorflow.keras import models\n",
    "from tensorflow.keras import layers\n",
    "from tensorflow.keras import backend as K\n",
    "from tensorflow.keras import regularizers\n"
   ]
  },
  {
   "cell_type": "code",
   "execution_count": 29,
   "metadata": {},
   "outputs": [],
   "source": [
    "def build_model(feature_input=1003,\n",
    "                hidden_dim = 128,\n",
    "                ):\n",
    "    \n",
    "    X_input = layers.Input(shape=(feature_input,))\n",
    "    inputs_list = [X_input]\n",
    "    \n",
    "    out = layers.Dense(hidden_dim, activation=\"relu\", kernel_regularizer=regularizers.l1_l2(l1=1e-5, l2=1e-4))(X_input)\n",
    "    out = layers.Dropout(0.5)(out)\n",
    "\n",
    "    out = layers.Dense(hidden_dim, activation=\"relu\", kernel_regularizer=regularizers.l1_l2(l1=1e-5, l2=1e-4))(out)\n",
    "    out = layers.Dropout(0.5)(out)\n",
    "\n",
    "    out = layers.Dense(hidden_dim, activation=\"relu\", kernel_regularizer=regularizers.l1_l2(l1=1e-5, l2=1e-4))(out)\n",
    "    out = layers.Dropout(0.5)(out)\n",
    "    \n",
    "    out = layers.Dense(1, activation=None, name='main_output')(out)\n",
    "    model = keras.models.Model(inputs=inputs_list, outputs=[out])\n",
    "\n",
    "    model.compile(optimizer='adam', loss=\"mse\")\n",
    "    #print(model.summary())\n",
    "    return model"
   ]
  },
  {
   "cell_type": "code",
   "execution_count": 33,
   "metadata": {},
   "outputs": [],
   "source": [
    "def result(y_true, y_pred):\n",
    "    return metrics.mean_absolute_error(y_true, y_pred), \\\n",
    "           metrics.r2_score(y_true, y_pred),\\\n",
    "           np.sqrt(metrics.mean_squared_error(y_true, y_pred)),\\\n",
    "           scipy.stats.pearsonr(y_true, y_pred)[0]\n",
    "\n",
    "def generate_result(seed):\n",
    "    model = build_model()\n",
    "    idx_train, idx_val = train_test_split(range(len(y)), train_size=0.85, random_state=seed)\n",
    "    idx_train, idx_test = train_test_split(range(len(idx_train)), train_size=0.82, random_state=seed)\n",
    "\n",
    "    earlyStopping = keras.callbacks.EarlyStopping(monitor='val_loss', patience=2, verbose=0, mode='min', restore_best_weights=True)\n",
    "    history = model.fit([X[idx_train]], y[idx_train], epochs=50, batch_size=100, \\\n",
    "                        validation_data=([X[idx_val]], y[idx_val]), verbose=0, callbacks=[earlyStopping])\n",
    "\n",
    "\n",
    "    y_pred = model.predict([X[idx_test]], verbose=0).reshape(-1)\n",
    "    mae, r2, rmse, pcc = result(y[idx_test], y_pred)\n",
    "    return mae, r2, rmse, pcc, y_pred\n",
    "\n",
    "def display(list_eva):\n",
    "    for list_ in list_eva:\n",
    "        print(np.mean(list_), np.std(list_))\n",
    "        print()"
   ]
  },
  {
   "cell_type": "code",
   "execution_count": 34,
   "metadata": {},
   "outputs": [
    {
     "name": "stdout",
     "output_type": "stream",
     "text": [
      "0\n",
      "1\n",
      "2\n",
      "3\n",
      "4\n",
      "1.2258464510481384 0.05209184092972659\n",
      "\n",
      "0.2095321348088564 0.022237805583200636\n",
      "\n",
      "1.6983581011100646 0.036137663886514675\n",
      "\n",
      "0.536885639413436 0.006288476098318938\n",
      "\n"
     ]
    }
   ],
   "source": [
    "mae_list, r2_list, rmse_list, pcc_list = [], [], [], []\n",
    "\n",
    "for i in range(5):\n",
    "    print(i)\n",
    "    mae, r2, rmse, pcc, y_pred = generate_result(seed=i)\n",
    "    mae_list.append(mae)\n",
    "    r2_list.append(r2)\n",
    "    rmse_list.append(rmse)\n",
    "    pcc_list.append(pcc)\n",
    "    \n",
    "display([mae_list, r2_list, rmse_list, pcc_list])"
   ]
  },
  {
   "cell_type": "code",
   "execution_count": null,
   "metadata": {},
   "outputs": [],
   "source": []
  },
  {
   "cell_type": "code",
   "execution_count": null,
   "metadata": {},
   "outputs": [],
   "source": []
  },
  {
   "cell_type": "code",
   "execution_count": null,
   "metadata": {},
   "outputs": [],
   "source": []
  },
  {
   "cell_type": "markdown",
   "metadata": {},
   "source": [
    "# High utilizer selection"
   ]
  },
  {
   "cell_type": "code",
   "execution_count": 89,
   "metadata": {},
   "outputs": [],
   "source": [
    "seed=4"
   ]
  },
  {
   "cell_type": "code",
   "execution_count": 90,
   "metadata": {},
   "outputs": [],
   "source": [
    "regr = linear_model.Lasso(alpha=0.0001)"
   ]
  },
  {
   "cell_type": "code",
   "execution_count": 91,
   "metadata": {},
   "outputs": [],
   "source": [
    "idx_train, idx_val = train_test_split(range(len(y)), train_size=0.85, random_state=seed)\n",
    "idx_train, idx_test = train_test_split(range(len(idx_train)), train_size=0.82, random_state=seed)\n",
    "\n",
    "regr.fit(X[idx_train], y[idx_train])    \n",
    "y_pred = regr.predict(X[idx_test])"
   ]
  },
  {
   "cell_type": "code",
   "execution_count": null,
   "metadata": {},
   "outputs": [],
   "source": []
  },
  {
   "cell_type": "code",
   "execution_count": 92,
   "metadata": {},
   "outputs": [
    {
     "name": "stdout",
     "output_type": "stream",
     "text": [
      "1094\n",
      "6362.451782449725\n",
      "6960522.249999999\n"
     ]
    }
   ],
   "source": [
    "k = 0.05\n",
    "top_idx = np.argsort(y_pred)[::-1][:int(len(y_pred)*k)]\n",
    "\n",
    "print(len(top_idx))\n",
    "print(np.mean(np.array(target_cost_seq)[idx_test][top_idx]))\n",
    "print(np.sum(np.array(target_cost_seq)[idx_test][top_idx]))"
   ]
  },
  {
   "cell_type": "code",
   "execution_count": 93,
   "metadata": {},
   "outputs": [
    {
     "name": "stdout",
     "output_type": "stream",
     "text": [
      "656\n",
      "7706.1428201219505\n",
      "5055229.6899999995\n"
     ]
    }
   ],
   "source": [
    "k = 0.03\n",
    "top_idx = np.argsort(y_pred)[::-1][:int(len(y_pred)*k)]\n",
    "\n",
    "print(len(top_idx))\n",
    "print(np.mean(np.array(target_cost_seq)[idx_test][top_idx]))\n",
    "print(np.sum(np.array(target_cost_seq)[idx_test][top_idx]))"
   ]
  },
  {
   "cell_type": "code",
   "execution_count": 94,
   "metadata": {},
   "outputs": [
    {
     "name": "stdout",
     "output_type": "stream",
     "text": [
      "218\n",
      "11210.994495412842\n",
      "2443996.8\n"
     ]
    }
   ],
   "source": [
    "k = 0.01\n",
    "top_idx = np.argsort(y_pred)[::-1][:int(len(y_pred)*k)]\n",
    "\n",
    "print(len(top_idx))\n",
    "print(np.mean(np.array(target_cost_seq)[idx_test][top_idx]))\n",
    "print(np.sum(np.array(target_cost_seq)[idx_test][top_idx]))"
   ]
  },
  {
   "cell_type": "code",
   "execution_count": null,
   "metadata": {},
   "outputs": [],
   "source": []
  },
  {
   "cell_type": "code",
   "execution_count": null,
   "metadata": {},
   "outputs": [],
   "source": []
  },
  {
   "cell_type": "code",
   "execution_count": 82,
   "metadata": {},
   "outputs": [],
   "source": [
    "seed=4"
   ]
  },
  {
   "cell_type": "code",
   "execution_count": 83,
   "metadata": {},
   "outputs": [],
   "source": [
    "regr = xgbr()"
   ]
  },
  {
   "cell_type": "code",
   "execution_count": 84,
   "metadata": {},
   "outputs": [
    {
     "name": "stdout",
     "output_type": "stream",
     "text": [
      "[01:27:53] WARNING: src/objective/regression_obj.cu:152: reg:linear is now deprecated in favor of reg:squarederror.\n"
     ]
    }
   ],
   "source": [
    "idx_train, idx_val = train_test_split(range(len(y)), train_size=0.85, random_state=seed)\n",
    "idx_train, idx_test = train_test_split(range(len(idx_train)), train_size=0.82, random_state=seed)\n",
    "\n",
    "regr.fit(X[idx_train], y[idx_train])    \n",
    "y_pred = regr.predict(X[idx_test])"
   ]
  },
  {
   "cell_type": "code",
   "execution_count": 85,
   "metadata": {},
   "outputs": [
    {
     "name": "stdout",
     "output_type": "stream",
     "text": [
      "1094\n",
      "6738.442934186472\n",
      "7371856.57\n"
     ]
    }
   ],
   "source": [
    "k = 0.05\n",
    "top_idx = np.argsort(y_pred)[::-1][:int(len(y_pred)*k)]\n",
    "\n",
    "print(len(top_idx))\n",
    "print(np.mean(np.array(target_cost_seq)[idx_test][top_idx]))\n",
    "print(np.sum(np.array(target_cost_seq)[idx_test][top_idx]))"
   ]
  },
  {
   "cell_type": "code",
   "execution_count": 86,
   "metadata": {},
   "outputs": [
    {
     "name": "stdout",
     "output_type": "stream",
     "text": [
      "656\n",
      "8444.139070121952\n",
      "5539355.23\n"
     ]
    }
   ],
   "source": [
    "k = 0.03\n",
    "top_idx = np.argsort(y_pred)[::-1][:int(len(y_pred)*k)]\n",
    "\n",
    "print(len(top_idx))\n",
    "print(np.mean(np.array(target_cost_seq)[idx_test][top_idx]))\n",
    "print(np.sum(np.array(target_cost_seq)[idx_test][top_idx]))"
   ]
  },
  {
   "cell_type": "code",
   "execution_count": 87,
   "metadata": {},
   "outputs": [
    {
     "name": "stdout",
     "output_type": "stream",
     "text": [
      "218\n",
      "14342.184220183484\n",
      "3126596.1599999997\n"
     ]
    }
   ],
   "source": [
    "k = 0.01\n",
    "top_idx = np.argsort(y_pred)[::-1][:int(len(y_pred)*k)]\n",
    "\n",
    "print(len(top_idx))\n",
    "print(np.mean(np.array(target_cost_seq)[idx_test][top_idx]))\n",
    "print(np.sum(np.array(target_cost_seq)[idx_test][top_idx]))"
   ]
  },
  {
   "cell_type": "code",
   "execution_count": null,
   "metadata": {},
   "outputs": [],
   "source": []
  },
  {
   "cell_type": "code",
   "execution_count": null,
   "metadata": {},
   "outputs": [],
   "source": []
  },
  {
   "cell_type": "code",
   "execution_count": null,
   "metadata": {},
   "outputs": [],
   "source": []
  },
  {
   "cell_type": "code",
   "execution_count": 77,
   "metadata": {},
   "outputs": [
    {
     "name": "stdout",
     "output_type": "stream",
     "text": [
      "1094\n",
      "6429.123263254114\n",
      "7033460.850000001\n"
     ]
    }
   ],
   "source": [
    "k = 0.05\n",
    "top_idx = np.argsort(np.array(input_cost_seq)[idx_test])[::-1][:int(len(np.array(input_cost_seq)[idx_test])*k)]\n",
    "\n",
    "print(len(top_idx))\n",
    "print(np.mean(np.array(target_cost_seq)[idx_test][top_idx]))\n",
    "print(np.sum(np.array(target_cost_seq)[idx_test][top_idx]))"
   ]
  },
  {
   "cell_type": "code",
   "execution_count": 76,
   "metadata": {},
   "outputs": [
    {
     "name": "stdout",
     "output_type": "stream",
     "text": [
      "656\n",
      "8232.909893292683\n",
      "5400788.89\n"
     ]
    }
   ],
   "source": [
    "k = 0.03\n",
    "top_idx = np.argsort(np.array(input_cost_seq)[idx_test])[::-1][:int(len(np.array(input_cost_seq)[idx_test])*k)]\n",
    "\n",
    "print(len(top_idx))\n",
    "print(np.mean(np.array(target_cost_seq)[idx_test][top_idx]))\n",
    "print(np.sum(np.array(target_cost_seq)[idx_test][top_idx]))"
   ]
  },
  {
   "cell_type": "code",
   "execution_count": 75,
   "metadata": {},
   "outputs": [
    {
     "name": "stdout",
     "output_type": "stream",
     "text": [
      "218\n",
      "12901.323532110093\n",
      "2812488.5300000003\n"
     ]
    }
   ],
   "source": [
    "k = 0.01\n",
    "top_idx = np.argsort(np.array(input_cost_seq)[idx_test])[::-1][:int(len(np.array(input_cost_seq)[idx_test])*k)]\n",
    "\n",
    "print(len(top_idx))\n",
    "print(np.mean(np.array(target_cost_seq)[idx_test][top_idx]))\n",
    "print(np.sum(np.array(target_cost_seq)[idx_test][top_idx]))"
   ]
  },
  {
   "cell_type": "code",
   "execution_count": null,
   "metadata": {},
   "outputs": [],
   "source": []
  }
 ],
 "metadata": {
  "kernelspec": {
   "display_name": "Python 3",
   "language": "python",
   "name": "python3"
  },
  "language_info": {
   "codemirror_mode": {
    "name": "ipython",
    "version": 3
   },
   "file_extension": ".py",
   "mimetype": "text/x-python",
   "name": "python",
   "nbconvert_exporter": "python",
   "pygments_lexer": "ipython3",
   "version": "3.7.3"
  }
 },
 "nbformat": 4,
 "nbformat_minor": 2
}
