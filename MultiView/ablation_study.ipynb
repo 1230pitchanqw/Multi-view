{
 "cells": [
  {
   "cell_type": "code",
   "execution_count": 1,
   "metadata": {},
   "outputs": [],
   "source": [
    "import pandas as pd\n",
    "import numpy as np\n",
    "from datetime import datetime\n",
    "import _pickle as pickle\n",
    "import random\n",
    "import scipy.stats as ss"
   ]
  },
  {
   "cell_type": "markdown",
   "metadata": {},
   "source": [
    "# cost features"
   ]
  },
  {
   "cell_type": "code",
   "execution_count": 2,
   "metadata": {},
   "outputs": [
    {
     "name": "stdout",
     "output_type": "stream",
     "text": [
      "0:00:00.563696\n"
     ]
    }
   ],
   "source": [
    "startTime = datetime.now()\n",
    "\n",
    "input_age_seq = pickle.load(open(\"../data/baseline/input_age_seq\",\"rb\"))\n",
    "input_sex_seq = pickle.load(open(\"../data/baseline/input_sex_seq\",\"rb\"))\n",
    "\n",
    "input_cost_seq = pickle.load(open(\"../data/baseline/input_cost_seq\",\"rb\"))\n",
    "target_cost_seq = pickle.load(open(\"../data/baseline/target_cost_seq\",\"rb\"))\n",
    "\n",
    "input_medical_cost_seq = pickle.load(open(\"../data/baseline/input_medical_cost_seq\",\"rb\"))\n",
    "input_monthly_medical_cost_seq = pickle.load(open(\"../data/baseline/input_monthly_medical_cost_seq\",\"rb\"))\n",
    "\n",
    "input_pharmacy_cost_seq = pickle.load(open(\"../data/baseline/input_pharmacy_cost_seq\",\"rb\"))\n",
    "input_monthly_pharmacy_cost_seq = pickle.load(open(\"../data/baseline/input_monthly_pharmacy_cost_seq\",\"rb\"))\n",
    "\n",
    "print(datetime.now() - startTime)"
   ]
  },
  {
   "cell_type": "code",
   "execution_count": 3,
   "metadata": {},
   "outputs": [],
   "source": [
    "def build_feature(seq, size):    \n",
    "    X = np.zeros((len(seq), size))\n",
    "    for i in range(len(seq)):\n",
    "        value = seq[i]\n",
    "        X[i][value] = 1\n",
    "    return X"
   ]
  },
  {
   "cell_type": "code",
   "execution_count": 4,
   "metadata": {},
   "outputs": [],
   "source": [
    "age_feature = build_feature([i//5 for i in input_age_seq], 4)\n",
    "sex_feature = build_feature([1 if i==\"M\" else 0 for i in input_sex_seq], 2)\n",
    "\n",
    "cost_feature = np.array([np.log(i+1) for i in input_cost_seq]).reshape(-1,1)\n",
    "medical_cost_feature = np.array([np.log(i+1) for i in input_medical_cost_seq]).reshape(-1,1)\n",
    "pharmacy_cost_feature = np.array([np.log(i+1) for i in input_pharmacy_cost_seq]).reshape(-1,1)\n",
    "\n",
    "monthly_medical_cost_feature = np.array([[np.log(i+1) for i in y] for y in input_monthly_medical_cost_seq]).reshape(-1,12)\n",
    "monthly_pharmacy_cost_feature = np.array([[np.log(i+1) for i in y] for y in input_monthly_pharmacy_cost_seq]).reshape(-1,12)"
   ]
  },
  {
   "cell_type": "code",
   "execution_count": 5,
   "metadata": {},
   "outputs": [
    {
     "data": {
      "text/plain": [
       "(143102, 9)"
      ]
     },
     "execution_count": 5,
     "metadata": {},
     "output_type": "execute_result"
    }
   ],
   "source": [
    "features = [age_feature, sex_feature, cost_feature, medical_cost_feature, pharmacy_cost_feature,\\\n",
    "            ]\n",
    "\n",
    "X_cost = np.concatenate(features, axis =1)\n",
    "X_cost.shape"
   ]
  },
  {
   "cell_type": "code",
   "execution_count": 6,
   "metadata": {},
   "outputs": [],
   "source": [
    "# y = np.array([np.log(i+1) for i in target_cost_seq])\n",
    "y = np.array([x/len(target_cost_seq) for x in ss.rankdata(target_cost_seq)])"
   ]
  },
  {
   "cell_type": "markdown",
   "metadata": {},
   "source": [
    "# util sequence"
   ]
  },
  {
   "cell_type": "code",
   "execution_count": 7,
   "metadata": {},
   "outputs": [
    {
     "name": "stdout",
     "output_type": "stream",
     "text": [
      "0:00:01.625799\n"
     ]
    }
   ],
   "source": [
    "startTime = datetime.now()\n",
    "\n",
    "input_util_seq = pickle.load(open(\"../data/advance/input_util_seq\",\"rb\"))\n",
    "\n",
    "print(datetime.now() - startTime)"
   ]
  },
  {
   "cell_type": "code",
   "execution_count": 8,
   "metadata": {},
   "outputs": [],
   "source": [
    "vocab = {}\n",
    "for p in input_util_seq:\n",
    "    for v in p:\n",
    "        for c in v:\n",
    "            if c not in vocab: vocab[c] = len(vocab)"
   ]
  },
  {
   "cell_type": "code",
   "execution_count": 9,
   "metadata": {},
   "outputs": [],
   "source": [
    "def build_seq_feature(seq, vocab):\n",
    "    X = np.zeros((len(seq),12, len(vocab) ))\n",
    "    for i in range(len(seq)):\n",
    "        for j in range(12):\n",
    "            for value in seq[i][j]:\n",
    "                X[i][j][vocab[value]] +=1\n",
    "    return X"
   ]
  },
  {
   "cell_type": "code",
   "execution_count": 10,
   "metadata": {},
   "outputs": [],
   "source": [
    "X_util = build_seq_feature(input_util_seq, vocab)"
   ]
  },
  {
   "cell_type": "code",
   "execution_count": 11,
   "metadata": {},
   "outputs": [],
   "source": [
    "X_util = np.concatenate((monthly_medical_cost_feature.reshape(-1,12,1),\\\n",
    "                         monthly_pharmacy_cost_feature.reshape(-1,12,1),\\\n",
    "                         X_util), axis=-1)"
   ]
  },
  {
   "cell_type": "code",
   "execution_count": 12,
   "metadata": {},
   "outputs": [
    {
     "data": {
      "text/plain": [
       "(143102, 12, 38)"
      ]
     },
     "execution_count": 12,
     "metadata": {},
     "output_type": "execute_result"
    }
   ],
   "source": [
    "X_util.shape"
   ]
  },
  {
   "cell_type": "markdown",
   "metadata": {},
   "source": [
    "# code sequence"
   ]
  },
  {
   "cell_type": "code",
   "execution_count": 13,
   "metadata": {},
   "outputs": [
    {
     "name": "stdout",
     "output_type": "stream",
     "text": [
      "0:00:04.356740\n"
     ]
    }
   ],
   "source": [
    "startTime = datetime.now()\n",
    "\n",
    "input_diag_seq = pickle.load(open(\"../data/advance/input_diag_seq\",\"rb\"))\n",
    "input_proc_seq = pickle.load(open(\"../data/advance/input_proc_seq\",\"rb\"))\n",
    "input_drug_seq = pickle.load(open(\"../data/advance/input_drug_seq\",\"rb\"))\n",
    "\n",
    "print(datetime.now() - startTime)"
   ]
  },
  {
   "cell_type": "code",
   "execution_count": 14,
   "metadata": {},
   "outputs": [],
   "source": [
    "code2int = {\"PAD\":0}\n",
    "\n",
    "code_seq = []\n",
    "for p_diag, p_proc, p_drug in zip(input_diag_seq, input_proc_seq, input_drug_seq):\n",
    "    new_p = []\n",
    "    for diag, proc, drug in zip(p_diag, p_proc, p_drug):\n",
    "        new_v = []\n",
    "        for d in diag:\n",
    "            if d not in code2int: code2int[d] = len(code2int)\n",
    "            new_v.append(code2int[d])\n",
    "        for p in proc:\n",
    "            if p not in code2int: code2int[p] = len(code2int)\n",
    "            new_v.append(code2int[p])\n",
    "        for dr in drug:\n",
    "            if dr not in code2int: code2int[dr] = len(code2int)\n",
    "            new_v.append(code2int[dr])\n",
    "        new_p.append(new_v)\n",
    "    code_seq.append(new_p)"
   ]
  },
  {
   "cell_type": "code",
   "execution_count": 15,
   "metadata": {},
   "outputs": [],
   "source": [
    "def build_seq(seq, max_codes = 50, max_length=12):\n",
    "    X = np.zeros((len(seq), max_length, max_codes))\n",
    "    for i, p in enumerate(seq):\n",
    "        assert len(p) == max_length\n",
    "        for j, claim in enumerate(p):\n",
    "            claim = claim[:max_codes]\n",
    "            X[i][j][:len(claim)] = claim\n",
    "    return X"
   ]
  },
  {
   "cell_type": "code",
   "execution_count": 16,
   "metadata": {},
   "outputs": [
    {
     "data": {
      "text/plain": [
       "(143102, 12, 50)"
      ]
     },
     "execution_count": 16,
     "metadata": {},
     "output_type": "execute_result"
    }
   ],
   "source": [
    "X_code = build_seq(code_seq)\n",
    "X_code.shape"
   ]
  },
  {
   "cell_type": "code",
   "execution_count": null,
   "metadata": {},
   "outputs": [],
   "source": []
  },
  {
   "cell_type": "markdown",
   "metadata": {},
   "source": [
    "# Model"
   ]
  },
  {
   "cell_type": "code",
   "execution_count": 17,
   "metadata": {},
   "outputs": [],
   "source": [
    "from sklearn.model_selection import train_test_split\n",
    "from sklearn import metrics\n",
    "import scipy"
   ]
  },
  {
   "cell_type": "code",
   "execution_count": 18,
   "metadata": {},
   "outputs": [],
   "source": [
    "import tensorflow as tf\n",
    "from tensorflow import keras\n",
    "from tensorflow.keras import models\n",
    "from tensorflow.keras import layers\n",
    "from tensorflow.keras import backend as K"
   ]
  },
  {
   "cell_type": "code",
   "execution_count": 19,
   "metadata": {},
   "outputs": [],
   "source": [
    "from attention import Attention"
   ]
  },
  {
   "cell_type": "code",
   "execution_count": 20,
   "metadata": {},
   "outputs": [],
   "source": [
    "def build_model(max_len =12,\n",
    "                max_code=50,\n",
    "                max_util=38,\n",
    "                max_demo=9,\n",
    "                feature_code=len(code2int),\n",
    "                embed_dim = 100,\n",
    "                lstm_units=32,\n",
    "                input_ = \"code\"\n",
    "               ):\n",
    "    \n",
    "    input_code = layers.Input(shape=(max_len, max_code))\n",
    "    input_util = layers.Input(shape=(max_len, max_util))\n",
    "    input_demo = layers.Input(shape=(max_demo,))\n",
    "    inputs_list = [input_code, input_util, input_demo]\n",
    "    \n",
    "    # code\n",
    "    input_code = layers.Embedding(input_dim=feature_code, output_dim=embed_dim, \n",
    "                                  mask_zero=True, name='code_embedding')(input_code)\n",
    "    \n",
    "    mask_layer = layers.Lambda(lambda x: tf.cast(tf.tile(tf.expand_dims(x._keras_mask, axis=-1), [1, 1, 1,embed_dim]), tf.float32))\n",
    "    mask_code = mask_layer(input_code)\n",
    "    input_code = layers.Multiply()([mask_code, input_code])\n",
    "    input_code = layers.Lambda(lambda x: keras.backend.sum(x, axis=2))(input_code)\n",
    "\n",
    "    input_code = layers.Dropout(0.5)(input_code)\n",
    "    input_code = layers.Bidirectional(layers.LSTM(lstm_units, return_sequences=True))(input_code)\n",
    "    input_code = Attention(max_len)(input_code)\n",
    "    input_code = layers.Dropout(0.5)(input_code)\n",
    "    \n",
    "    # util\n",
    "    input_util = layers.Dense(lstm_units, activation=\"relu\")(input_util)\n",
    "    \n",
    "    input_util = layers.Dropout(0.5)(input_util)\n",
    "    input_util = layers.Bidirectional(layers.LSTM(lstm_units, return_sequences=True))(input_util)\n",
    "    input_util = layers.Bidirectional(layers.LSTM(lstm_units, return_sequences=False))(input_util)\n",
    "\n",
    "    input_util = layers.Dropout(0.5)(input_util)    \n",
    "    \n",
    "    if input_==\"code\":\n",
    "        out = input_code\n",
    "    elif input_==\"util\":\n",
    "        out = input_util\n",
    "    elif input_==\"demo\":\n",
    "        out = input_demo\n",
    "        \n",
    "    \n",
    "    out = layers.Dense(lstm_units, activation=\"relu\")(out)\n",
    "    out = layers.Dropout(0.5)(out)\n",
    "\n",
    "    out = layers.Dense(lstm_units, activation=\"relu\")(out)\n",
    "    out = layers.Dropout(0.5)(out)\n",
    "    \n",
    "    out = layers.Dense(1, activation=None, name='main_output')(out)\n",
    "    model = keras.models.Model(inputs=inputs_list, outputs=[out])\n",
    "\n",
    "    model.compile(optimizer='adam', loss=\"mse\")\n",
    "    #print(model.summary())\n",
    "    return model"
   ]
  },
  {
   "cell_type": "code",
   "execution_count": null,
   "metadata": {},
   "outputs": [],
   "source": []
  },
  {
   "cell_type": "code",
   "execution_count": 21,
   "metadata": {},
   "outputs": [],
   "source": [
    "def result(y_true, y_pred):\n",
    "    return metrics.mean_absolute_error(y_true, y_pred), \\\n",
    "           metrics.r2_score(y_true, y_pred),\\\n",
    "           np.sqrt(metrics.mean_squared_error(y_true, y_pred)),\\\n",
    "           scipy.stats.pearsonr(y_true, y_pred)[0]\n",
    "\n",
    "def generate_result(seed, input_):\n",
    "    model = build_model(input_=input_)\n",
    "    idx_train, idx_val = train_test_split(range(len(y)), train_size=0.85, random_state=seed)\n",
    "    idx_train, idx_test = train_test_split(range(len(idx_train)), train_size=0.82, random_state=seed)\n",
    "\n",
    "    earlyStopping = keras.callbacks.EarlyStopping(monitor='val_loss', patience=2, verbose=0, mode='min', restore_best_weights=True)\n",
    "    history = model.fit([X_code[idx_train], X_util[idx_train], X_cost[idx_train]], y[idx_train], epochs=50, batch_size=100, \\\n",
    "                        validation_data=([X_code[idx_val], X_util[idx_val], X_cost[idx_val]], y[idx_val]), verbose=0, callbacks=[earlyStopping])\n",
    "\n",
    "\n",
    "    y_pred = model.predict([X_code[idx_test], X_util[idx_test], X_cost[idx_test]], verbose=0).reshape(-1)\n",
    "    mae, r2, rmse, pcc = result(y[idx_test], y_pred)\n",
    "    return mae, r2, rmse, pcc, y_pred\n",
    "\n",
    "def display(list_eva):\n",
    "    for list_ in list_eva:\n",
    "        print(np.mean(list_), np.std(list_))\n",
    "        print()"
   ]
  },
  {
   "cell_type": "code",
   "execution_count": 22,
   "metadata": {},
   "outputs": [
    {
     "name": "stdout",
     "output_type": "stream",
     "text": [
      "demo\n",
      "0\n",
      "1\n",
      "2\n",
      "3\n",
      "4\n",
      "0.21062463903033452 0.006415642797297634\n",
      "\n",
      "0.27862015576834037 0.031785748022896104\n",
      "\n",
      "0.2464674141952849 0.005678082215724863\n",
      "\n",
      "0.5802320319553866 0.007843306330628248\n",
      "\n",
      "util\n",
      "0\n",
      "1\n",
      "2\n",
      "3\n",
      "4\n",
      "0.19665477319279256 0.005493785836529525\n",
      "\n",
      "0.34285623881116484 0.02226691333289523\n",
      "\n",
      "0.23525994023359073 0.004258593745363088\n",
      "\n",
      "0.6104812318056807 0.00557618758263286\n",
      "\n",
      "code\n",
      "0\n",
      "1\n",
      "2\n",
      "3\n",
      "4\n",
      "0.19392129964332255 0.0015618339992350511\n",
      "\n",
      "0.329560621643997 0.008947920459512768\n",
      "\n",
      "0.23765220284299965 0.0017861234480300568\n",
      "\n",
      "0.5745075485027786 0.007762600414664745\n",
      "\n"
     ]
    }
   ],
   "source": [
    "\n",
    "for input_ in [\"demo\", 'util', 'code']:\n",
    "    mae_list, r2_list, rmse_list, pcc_list = [], [], [], []\n",
    "    print(input_)\n",
    "    for i in range(5):\n",
    "        print(i)\n",
    "        mae, r2, rmse, pcc, y_pred = generate_result(seed=i, input_=input_)\n",
    "        mae_list.append(mae)\n",
    "        r2_list.append(r2)\n",
    "        rmse_list.append(rmse)\n",
    "        pcc_list.append(pcc)\n",
    "    \n",
    "    display([mae_list, r2_list, rmse_list, pcc_list])"
   ]
  },
  {
   "cell_type": "code",
   "execution_count": null,
   "metadata": {},
   "outputs": [],
   "source": []
  },
  {
   "cell_type": "code",
   "execution_count": null,
   "metadata": {},
   "outputs": [],
   "source": []
  },
  {
   "cell_type": "code",
   "execution_count": null,
   "metadata": {},
   "outputs": [],
   "source": []
  },
  {
   "cell_type": "code",
   "execution_count": 24,
   "metadata": {},
   "outputs": [
    {
     "name": "stdout",
     "output_type": "stream",
     "text": [
      "demo\n",
      "0\n",
      "1\n",
      "2\n",
      "3\n",
      "4\n",
      "1.122124893224926 0.020032401343759297\n",
      "\n",
      "0.2286404044567507 0.005932198261082242\n",
      "\n",
      "1.6777421088863818 0.018935518449822754\n",
      "\n",
      "0.4865442193632644 0.005188035708022915\n",
      "\n",
      "util\n",
      "0\n",
      "1\n",
      "2\n",
      "3\n",
      "4\n",
      "1.1742072297502555 0.04041330466479561\n",
      "\n",
      "0.2355653504305165 0.011530702719676302\n",
      "\n",
      "1.6702111701972147 0.025503623836266923\n",
      "\n",
      "0.5182765482947769 0.005197460353786274\n",
      "\n",
      "code\n",
      "0\n",
      "1\n",
      "2\n",
      "3\n",
      "4\n",
      "1.1076813285657032 0.009048797210910358\n",
      "\n",
      "0.236998053298806 0.004942671611880203\n",
      "\n",
      "1.6686571173478615 0.020681352068964258\n",
      "\n",
      "0.4894094488452283 0.004898838027227226\n",
      "\n"
     ]
    }
   ],
   "source": [
    "\n",
    "for input_ in [\"demo\", 'util', 'code']:\n",
    "    mae_list, r2_list, rmse_list, pcc_list = [], [], [], []\n",
    "    print(input_)\n",
    "    for i in range(5):\n",
    "        print(i)\n",
    "        mae, r2, rmse, pcc, y_pred = generate_result(seed=i, input_=input_)\n",
    "        mae_list.append(mae)\n",
    "        r2_list.append(r2)\n",
    "        rmse_list.append(rmse)\n",
    "        pcc_list.append(pcc)\n",
    "    \n",
    "    display([mae_list, r2_list, rmse_list, pcc_list])"
   ]
  },
  {
   "cell_type": "code",
   "execution_count": null,
   "metadata": {},
   "outputs": [],
   "source": []
  },
  {
   "cell_type": "code",
   "execution_count": null,
   "metadata": {},
   "outputs": [],
   "source": []
  },
  {
   "cell_type": "code",
   "execution_count": null,
   "metadata": {},
   "outputs": [],
   "source": []
  },
  {
   "cell_type": "code",
   "execution_count": null,
   "metadata": {},
   "outputs": [],
   "source": []
  },
  {
   "cell_type": "code",
   "execution_count": null,
   "metadata": {},
   "outputs": [],
   "source": []
  },
  {
   "cell_type": "code",
   "execution_count": null,
   "metadata": {},
   "outputs": [],
   "source": []
  },
  {
   "cell_type": "code",
   "execution_count": null,
   "metadata": {},
   "outputs": [],
   "source": []
  }
 ],
 "metadata": {
  "kernelspec": {
   "display_name": "Python 3",
   "language": "python",
   "name": "python3"
  },
  "language_info": {
   "codemirror_mode": {
    "name": "ipython",
    "version": 3
   },
   "file_extension": ".py",
   "mimetype": "text/x-python",
   "name": "python",
   "nbconvert_exporter": "python",
   "pygments_lexer": "ipython3",
   "version": "3.7.3"
  }
 },
 "nbformat": 4,
 "nbformat_minor": 2
}
