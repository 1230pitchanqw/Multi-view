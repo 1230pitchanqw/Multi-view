{
 "cells": [
  {
   "cell_type": "code",
   "execution_count": 1,
   "metadata": {},
   "outputs": [],
   "source": [
    "import pandas as pd\n",
    "import numpy as np\n",
    "from datetime import datetime\n",
    "import _pickle as pickle\n",
    "import random\n",
    "import scipy.stats as ss"
   ]
  },
  {
   "cell_type": "markdown",
   "metadata": {},
   "source": [
    "# cost features"
   ]
  },
  {
   "cell_type": "code",
   "execution_count": 2,
   "metadata": {},
   "outputs": [
    {
     "name": "stdout",
     "output_type": "stream",
     "text": [
      "0:00:00.767800\n"
     ]
    }
   ],
   "source": [
    "startTime = datetime.now()\n",
    "\n",
    "input_age_seq = pickle.load(open(\"../data/baseline/input_age_seq\",\"rb\"))\n",
    "input_sex_seq = pickle.load(open(\"../data/baseline/input_sex_seq\",\"rb\"))\n",
    "\n",
    "input_cost_seq = pickle.load(open(\"../data/baseline/input_cost_seq\",\"rb\"))\n",
    "target_cost_seq = pickle.load(open(\"../data/baseline/target_cost_seq\",\"rb\"))\n",
    "\n",
    "input_medical_cost_seq = pickle.load(open(\"../data/baseline/input_medical_cost_seq\",\"rb\"))\n",
    "input_monthly_medical_cost_seq = pickle.load(open(\"../data/baseline/input_monthly_medical_cost_seq\",\"rb\"))\n",
    "\n",
    "input_pharmacy_cost_seq = pickle.load(open(\"../data/baseline/input_pharmacy_cost_seq\",\"rb\"))\n",
    "input_monthly_pharmacy_cost_seq = pickle.load(open(\"../data/baseline/input_monthly_pharmacy_cost_seq\",\"rb\"))\n",
    "\n",
    "print(datetime.now() - startTime)"
   ]
  },
  {
   "cell_type": "code",
   "execution_count": 3,
   "metadata": {},
   "outputs": [],
   "source": [
    "def build_feature(seq, size):    \n",
    "    X = np.zeros((len(seq), size))\n",
    "    for i in range(len(seq)):\n",
    "        value = seq[i]\n",
    "        X[i][value] = 1\n",
    "    return X"
   ]
  },
  {
   "cell_type": "code",
   "execution_count": 4,
   "metadata": {},
   "outputs": [],
   "source": [
    "age_feature = build_feature([i//5 for i in input_age_seq], 4)\n",
    "sex_feature = build_feature([1 if i==\"M\" else 0 for i in input_sex_seq], 2)\n",
    "\n",
    "cost_feature = np.array([np.log(i+1) for i in input_cost_seq]).reshape(-1,1)\n",
    "medical_cost_feature = np.array([np.log(i+1) for i in input_medical_cost_seq]).reshape(-1,1)\n",
    "pharmacy_cost_feature = np.array([np.log(i+1) for i in input_pharmacy_cost_seq]).reshape(-1,1)\n",
    "\n",
    "monthly_medical_cost_feature = np.array([[np.log(i+1) for i in y] for y in input_monthly_medical_cost_seq]).reshape(-1,12)\n",
    "monthly_pharmacy_cost_feature = np.array([[np.log(i+1) for i in y] for y in input_monthly_pharmacy_cost_seq]).reshape(-1,12)"
   ]
  },
  {
   "cell_type": "code",
   "execution_count": 5,
   "metadata": {},
   "outputs": [
    {
     "data": {
      "text/plain": [
       "(143102, 9)"
      ]
     },
     "execution_count": 5,
     "metadata": {},
     "output_type": "execute_result"
    }
   ],
   "source": [
    "features = [age_feature, sex_feature, cost_feature, medical_cost_feature, pharmacy_cost_feature]\n",
    "\n",
    "X_cost = np.concatenate(features, axis =1)\n",
    "X_cost.shape"
   ]
  },
  {
   "cell_type": "code",
   "execution_count": 6,
   "metadata": {},
   "outputs": [],
   "source": [
    "y = np.array([np.log(i+1) for i in target_cost_seq])\n",
    "# y = np.array([x/len(target_cost_seq) for x in ss.rankdata(target_cost_seq)])"
   ]
  },
  {
   "cell_type": "markdown",
   "metadata": {},
   "source": [
    "# util sequence"
   ]
  },
  {
   "cell_type": "code",
   "execution_count": 7,
   "metadata": {},
   "outputs": [
    {
     "name": "stdout",
     "output_type": "stream",
     "text": [
      "0:00:03.343135\n"
     ]
    }
   ],
   "source": [
    "startTime = datetime.now()\n",
    "\n",
    "input_util_seq = pickle.load(open(\"../data/advance/input_util_seq\",\"rb\"))\n",
    "\n",
    "print(datetime.now() - startTime)"
   ]
  },
  {
   "cell_type": "code",
   "execution_count": 8,
   "metadata": {},
   "outputs": [],
   "source": [
    "vocab = {}\n",
    "for p in input_util_seq:\n",
    "    for v in p:\n",
    "        for c in v:\n",
    "            if c not in vocab: vocab[c] = len(vocab)"
   ]
  },
  {
   "cell_type": "code",
   "execution_count": 9,
   "metadata": {},
   "outputs": [],
   "source": [
    "def build_seq_feature(seq, vocab):\n",
    "    X = np.zeros((len(seq),12, len(vocab) ))\n",
    "    for i in range(len(seq)):\n",
    "        for j in range(12):\n",
    "            for value in seq[i][j]:\n",
    "                X[i][j][vocab[value]] +=1\n",
    "    return X"
   ]
  },
  {
   "cell_type": "code",
   "execution_count": 10,
   "metadata": {},
   "outputs": [],
   "source": [
    "X_util = build_seq_feature(input_util_seq, vocab)"
   ]
  },
  {
   "cell_type": "code",
   "execution_count": 11,
   "metadata": {},
   "outputs": [],
   "source": [
    "X_util = np.concatenate((monthly_medical_cost_feature.reshape(-1,12,1),\\\n",
    "                         monthly_pharmacy_cost_feature.reshape(-1,12,1),\\\n",
    "                         X_util), axis=-1)"
   ]
  },
  {
   "cell_type": "code",
   "execution_count": 12,
   "metadata": {},
   "outputs": [
    {
     "data": {
      "text/plain": [
       "(143102, 12, 38)"
      ]
     },
     "execution_count": 12,
     "metadata": {},
     "output_type": "execute_result"
    }
   ],
   "source": [
    "X_util.shape"
   ]
  },
  {
   "cell_type": "markdown",
   "metadata": {},
   "source": [
    "# code sequence"
   ]
  },
  {
   "cell_type": "code",
   "execution_count": 13,
   "metadata": {},
   "outputs": [
    {
     "name": "stdout",
     "output_type": "stream",
     "text": [
      "0:00:06.994186\n"
     ]
    }
   ],
   "source": [
    "startTime = datetime.now()\n",
    "\n",
    "input_diag_seq = pickle.load(open(\"../data/advance/input_diag_seq\",\"rb\"))\n",
    "input_proc_seq = pickle.load(open(\"../data/advance/input_proc_seq\",\"rb\"))\n",
    "input_drug_seq = pickle.load(open(\"../data/advance/input_drug_seq\",\"rb\"))\n",
    "\n",
    "print(datetime.now() - startTime)"
   ]
  },
  {
   "cell_type": "code",
   "execution_count": 17,
   "metadata": {},
   "outputs": [
    {
     "data": {
      "text/plain": [
       "10918"
      ]
     },
     "execution_count": 17,
     "metadata": {},
     "output_type": "execute_result"
    }
   ],
   "source": [
    "code2int = {\"PAD\":0}\n",
    "\n",
    "code_seq = []\n",
    "for p_diag, p_proc, p_drug in zip(input_diag_seq, input_proc_seq, input_drug_seq):\n",
    "    new_p = []\n",
    "    for diag, proc, drug in zip(p_diag, p_proc, p_drug):\n",
    "        new_v = []\n",
    "        for d in diag:\n",
    "            if d not in code2int: code2int[d] = len(code2int)\n",
    "            new_v.append(code2int[d])\n",
    "        for p in proc:\n",
    "            if p not in code2int: code2int[p] = len(code2int)\n",
    "            new_v.append(code2int[p])\n",
    "        for dr in drug:\n",
    "            if dr not in code2int: code2int[dr] = len(code2int)\n",
    "            new_v.append(code2int[dr])\n",
    "        new_p.append(new_v)\n",
    "    code_seq.append(new_p)\n",
    "    \n",
    "len(code2int)"
   ]
  },
  {
   "cell_type": "code",
   "execution_count": 15,
   "metadata": {},
   "outputs": [],
   "source": [
    "def build_seq(seq, max_codes = 50, max_length=12):\n",
    "    X = np.zeros((len(seq), max_length, max_codes))\n",
    "    for i, p in enumerate(seq):\n",
    "        assert len(p) == max_length\n",
    "        for j, claim in enumerate(p):\n",
    "            claim = claim[:max_codes]\n",
    "            X[i][j][:len(claim)] = claim\n",
    "    return X"
   ]
  },
  {
   "cell_type": "code",
   "execution_count": 16,
   "metadata": {},
   "outputs": [
    {
     "data": {
      "text/plain": [
       "(143102, 12, 50)"
      ]
     },
     "execution_count": 16,
     "metadata": {},
     "output_type": "execute_result"
    }
   ],
   "source": [
    "X_code = build_seq(code_seq)\n",
    "X_code.shape"
   ]
  },
  {
   "cell_type": "code",
   "execution_count": null,
   "metadata": {},
   "outputs": [],
   "source": []
  },
  {
   "cell_type": "markdown",
   "metadata": {},
   "source": [
    "# Model"
   ]
  },
  {
   "cell_type": "code",
   "execution_count": 18,
   "metadata": {},
   "outputs": [],
   "source": [
    "from sklearn.model_selection import train_test_split\n",
    "from sklearn import metrics\n",
    "import scipy"
   ]
  },
  {
   "cell_type": "code",
   "execution_count": 20,
   "metadata": {},
   "outputs": [],
   "source": [
    "import tensorflow as tf\n",
    "from tensorflow import keras\n",
    "from tensorflow.keras import models\n",
    "from tensorflow.keras import layers\n",
    "from tensorflow.keras import backend as K\n",
    "\n",
    "from tensorflow.keras import backend as K\n",
    "from tensorflow.keras import initializers, regularizers, constraints\n",
    "from tensorflow.keras.layers import Layer"
   ]
  },
  {
   "cell_type": "code",
   "execution_count": 21,
   "metadata": {},
   "outputs": [],
   "source": [
    "class Attention(Layer):\n",
    "    def __init__(self, step_dim,\n",
    "                 W_regularizer=None, b_regularizer=None,\n",
    "                 W_constraint=None, b_constraint=None,\n",
    "                 bias=True, **kwargs):\n",
    "        self.supports_masking = True\n",
    "        self.init = initializers.get('glorot_uniform')\n",
    "\n",
    "        self.W_regularizer = regularizers.get(W_regularizer)\n",
    "        self.b_regularizer = regularizers.get(b_regularizer)\n",
    "\n",
    "        self.W_constraint = constraints.get(W_constraint)\n",
    "        self.b_constraint = constraints.get(b_constraint)\n",
    "\n",
    "        self.bias = bias\n",
    "        self.step_dim = step_dim\n",
    "        self.features_dim = 0\n",
    "\n",
    "        super(Attention, self).__init__(**kwargs)\n",
    "\n",
    "    def build(self, input_shape):\n",
    "        assert len(input_shape) == 3\n",
    "\n",
    "        self.W = self.add_weight(name='{}_W'.format(self.name),\n",
    "                                 shape=(input_shape[-1],),\n",
    "                                 initializer=self.init,\n",
    "                                 regularizer=self.W_regularizer,\n",
    "                                 constraint=self.W_constraint)\n",
    "        self.features_dim = input_shape[-1]\n",
    "\n",
    "        if self.bias:\n",
    "            self.b = self.add_weight(name='{}_b'.format(self.name),\n",
    "                                     shape=(input_shape[1],),\n",
    "                                     initializer='zero',\n",
    "                                     regularizer=self.b_regularizer,\n",
    "                                     constraint=self.b_constraint)\n",
    "        else:\n",
    "            self.b = None\n",
    "\n",
    "        self.built = True\n",
    "\n",
    "    def compute_mask(self, input, input_mask=None):\n",
    "        return None\n",
    "\n",
    "    def call(self, x, mask=None):\n",
    "        features_dim = self.features_dim\n",
    "        step_dim = self.step_dim\n",
    "\n",
    "        e = K.reshape(K.dot(K.reshape(x, (-1, features_dim)), K.reshape(self.W, (features_dim, 1))), (-1, step_dim))  # e = K.dot(x, self.W)\n",
    "        if self.bias:\n",
    "            e += self.b\n",
    "        e = K.tanh(e)\n",
    "\n",
    "        a = K.exp(e)\n",
    "        if mask is not None:\n",
    "            a *= K.cast(mask, K.floatx())\n",
    "        a /= K.cast(K.sum(a, axis=1, keepdims=True) + K.epsilon(), K.floatx())\n",
    "        a = K.expand_dims(a)\n",
    "\n",
    "        c = K.sum(a * x, axis=1)\n",
    "        return c, a\n",
    "\n",
    "    def compute_output_shape(self, input_shape):\n",
    "        return input_shape[0], self.features_dim\n",
    "    "
   ]
  },
  {
   "cell_type": "code",
   "execution_count": 22,
   "metadata": {},
   "outputs": [],
   "source": [
    "def build_model(max_len =12,\n",
    "                max_code=50,\n",
    "                max_util=38,\n",
    "                max_demo=9,\n",
    "                feature_code=len(code2int),\n",
    "                embed_dim = 50,\n",
    "                lstm_units=32,\n",
    "               ):\n",
    "    \n",
    "    input_code = layers.Input(shape=(max_len, max_code))\n",
    "    input_util = layers.Input(shape=(max_len, max_util))\n",
    "    input_demo = layers.Input(shape=(max_demo,))\n",
    "    inputs_list = [input_code, input_util, input_demo]\n",
    "    \n",
    "    # code\n",
    "    tmp_input = layers.Input(shape=(max_code, ))\n",
    "    tmp = layers.Embedding(input_dim=feature_code, output_dim=embed_dim, \n",
    "                           mask_zero=True, name='code_embedding')(tmp_input)\n",
    "    \n",
    "    tmp = layers.Bidirectional(layers.LSTM(lstm_units, return_sequences=True))(tmp)\n",
    "    tmp, ait = Attention(max_code)(tmp)\n",
    "    codeEncoder = keras.models.Model(tmp_input, tmp)    \n",
    "    \n",
    "    input_code = layers.TimeDistributed(codeEncoder)(input_code)\n",
    "    input_code = layers.Bidirectional(layers.GRU(lstm_units, return_sequences=True))(input_code)\n",
    "    input_code, ait2 = Attention(max_len)(input_code)\n",
    "        \n",
    "    # util\n",
    "    input_util = layers.Dense(lstm_units, activation=\"relu\")(input_util)\n",
    "    \n",
    "    input_util = layers.Bidirectional(layers.LSTM(lstm_units, return_sequences=True))(input_util)\n",
    "    input_util, ait3 = Attention(max_len)(input_util)\n",
    "    \n",
    "    # demo\n",
    "    out = layers.concatenate([input_code, input_util, input_demo])\n",
    "    \n",
    "    out = layers.Dense(lstm_units, activation=\"relu\")(out)\n",
    "    out = layers.Dropout(0.5)(out)\n",
    "\n",
    "    out = layers.Dense(lstm_units, activation=\"relu\")(out)\n",
    "    out = layers.Dropout(0.5)(out)\n",
    "    \n",
    "    out = layers.Dense(1, activation=None, name='main_output')(out)\n",
    "    model = keras.models.Model(inputs=inputs_list, outputs=[out])\n",
    "\n",
    "    model.compile(optimizer='adam', loss=\"mse\")\n",
    "    print(model.summary())\n",
    "    print(codeEncoder.summary())\n",
    "    return model, codeEncoder"
   ]
  },
  {
   "cell_type": "code",
   "execution_count": null,
   "metadata": {},
   "outputs": [],
   "source": []
  },
  {
   "cell_type": "code",
   "execution_count": 37,
   "metadata": {},
   "outputs": [
    {
     "name": "stdout",
     "output_type": "stream",
     "text": [
      "Model: \"functional_13\"\n",
      "__________________________________________________________________________________________________\n",
      "Layer (type)                    Output Shape         Param #     Connected to                     \n",
      "==================================================================================================\n",
      "input_5 (InputLayer)            [(None, 12, 50)]     0                                            \n",
      "__________________________________________________________________________________________________\n",
      "input_6 (InputLayer)            [(None, 12, 38)]     0                                            \n",
      "__________________________________________________________________________________________________\n",
      "time_distributed_1 (TimeDistrib (None, 12, 64)       567262      input_5[0][0]                    \n",
      "__________________________________________________________________________________________________\n",
      "dense_3 (Dense)                 (None, 12, 32)       1248        input_6[0][0]                    \n",
      "__________________________________________________________________________________________________\n",
      "bidirectional_4 (Bidirectional) (None, 12, 64)       18816       time_distributed_1[0][0]         \n",
      "__________________________________________________________________________________________________\n",
      "bidirectional_5 (Bidirectional) (None, 12, 64)       16640       dense_3[0][0]                    \n",
      "__________________________________________________________________________________________________\n",
      "attention_4 (Attention)         ((None, 64), (None,  76          bidirectional_4[0][0]            \n",
      "__________________________________________________________________________________________________\n",
      "attention_5 (Attention)         ((None, 64), (None,  76          bidirectional_5[0][0]            \n",
      "__________________________________________________________________________________________________\n",
      "input_7 (InputLayer)            [(None, 9)]          0                                            \n",
      "__________________________________________________________________________________________________\n",
      "concatenate_1 (Concatenate)     (None, 137)          0           attention_4[0][0]                \n",
      "                                                                 attention_5[0][0]                \n",
      "                                                                 input_7[0][0]                    \n",
      "__________________________________________________________________________________________________\n",
      "dense_4 (Dense)                 (None, 32)           4416        concatenate_1[0][0]              \n",
      "__________________________________________________________________________________________________\n",
      "dropout_2 (Dropout)             (None, 32)           0           dense_4[0][0]                    \n",
      "__________________________________________________________________________________________________\n",
      "dense_5 (Dense)                 (None, 32)           1056        dropout_2[0][0]                  \n",
      "__________________________________________________________________________________________________\n",
      "dropout_3 (Dropout)             (None, 32)           0           dense_5[0][0]                    \n",
      "__________________________________________________________________________________________________\n",
      "main_output (Dense)             (None, 1)            33          dropout_3[0][0]                  \n",
      "==================================================================================================\n",
      "Total params: 609,623\n",
      "Trainable params: 609,623\n",
      "Non-trainable params: 0\n",
      "__________________________________________________________________________________________________\n",
      "None\n",
      "Model: \"functional_11\"\n",
      "_________________________________________________________________\n",
      "Layer (type)                 Output Shape              Param #   \n",
      "=================================================================\n",
      "input_8 (InputLayer)         [(None, 50)]              0         \n",
      "_________________________________________________________________\n",
      "code_embedding (Embedding)   (None, 50, 50)            545900    \n",
      "_________________________________________________________________\n",
      "bidirectional_3 (Bidirection (None, 50, 64)            21248     \n",
      "_________________________________________________________________\n",
      "attention_3 (Attention)      ((None, 64), (None, 50, 1 114       \n",
      "=================================================================\n",
      "Total params: 567,262\n",
      "Trainable params: 567,262\n",
      "Non-trainable params: 0\n",
      "_________________________________________________________________\n",
      "None\n",
      "Epoch 1/50\n",
      "998/998 [==============================] - 592s 593ms/step - loss: 6.1107 - val_loss: 2.7641\n",
      "Epoch 2/50\n",
      "998/998 [==============================] - 679s 680ms/step - loss: 4.0532 - val_loss: 2.6781\n",
      "Epoch 3/50\n",
      "998/998 [==============================] - 650s 652ms/step - loss: 3.6543 - val_loss: 2.5774\n",
      "Epoch 4/50\n",
      "998/998 [==============================] - 644s 646ms/step - loss: 3.4115 - val_loss: 2.5536\n",
      "Epoch 5/50\n",
      "998/998 [==============================] - 643s 644ms/step - loss: 3.1792 - val_loss: 2.5753\n",
      "Epoch 6/50\n",
      "998/998 [==============================] - 642s 644ms/step - loss: 2.9799 - val_loss: 2.5331\n",
      "Epoch 7/50\n",
      "998/998 [==============================] - 642s 643ms/step - loss: 2.8199 - val_loss: 2.5076\n",
      "Epoch 8/50\n",
      "998/998 [==============================] - 644s 645ms/step - loss: 2.6579 - val_loss: 2.4871\n",
      "Epoch 9/50\n",
      "998/998 [==============================] - 643s 644ms/step - loss: 2.5644 - val_loss: 2.4819\n",
      "Epoch 10/50\n",
      "998/998 [==============================] - 645s 646ms/step - loss: 2.4770 - val_loss: 2.4878\n",
      "Epoch 11/50\n",
      "998/998 [==============================] - 645s 646ms/step - loss: 2.3963 - val_loss: 2.4514\n",
      "Epoch 12/50\n",
      "998/998 [==============================] - 647s 648ms/step - loss: 2.3564 - val_loss: 2.4509\n",
      "Epoch 13/50\n",
      "998/998 [==============================] - 641s 643ms/step - loss: 2.3142 - val_loss: 2.4079\n",
      "Epoch 14/50\n",
      "998/998 [==============================] - 643s 644ms/step - loss: 2.2781 - val_loss: 2.4129\n",
      "Epoch 15/50\n",
      "998/998 [==============================] - 639s 640ms/step - loss: 2.2466 - val_loss: 2.4260\n"
     ]
    }
   ],
   "source": [
    "if True:\n",
    "    seed = 0\n",
    "    model, codeEncoder = build_model()\n",
    "    idx_train, idx_val = train_test_split(range(len(y)), train_size=0.85, random_state=seed)\n",
    "    idx_train, idx_test = train_test_split(range(len(idx_train)), train_size=0.82, random_state=seed)\n",
    "\n",
    "    earlyStopping = keras.callbacks.EarlyStopping(monitor='val_loss', patience=2, verbose=0, mode='min', restore_best_weights=True)\n",
    "    history = model.fit([X_code[idx_train], X_util[idx_train], X_cost[idx_train]], y[idx_train], epochs=50, batch_size=100, \\\n",
    "                        validation_data=([X_code[idx_val], X_util[idx_val], X_cost[idx_val]], y[idx_val]), verbose=1, callbacks=[earlyStopping])\n",
    "    "
   ]
  },
  {
   "cell_type": "code",
   "execution_count": null,
   "metadata": {},
   "outputs": [],
   "source": []
  },
  {
   "cell_type": "code",
   "execution_count": 38,
   "metadata": {},
   "outputs": [],
   "source": [
    "def result(y_true, y_pred):\n",
    "    return metrics.mean_absolute_error(y_true, y_pred), \\\n",
    "           metrics.r2_score(y_true, y_pred),\\\n",
    "           np.sqrt(metrics.mean_squared_error(y_true, y_pred)),\\\n",
    "           scipy.stats.pearsonr(y_true, y_pred)[0]"
   ]
  },
  {
   "cell_type": "code",
   "execution_count": null,
   "metadata": {},
   "outputs": [],
   "source": []
  },
  {
   "cell_type": "code",
   "execution_count": 39,
   "metadata": {},
   "outputs": [
    {
     "data": {
      "text/plain": [
       "(0.9595873782280601,\n",
       " 0.4247873229661123,\n",
       " 1.4415392695797746,\n",
       " 0.6570101105376487)"
      ]
     },
     "execution_count": 39,
     "metadata": {},
     "output_type": "execute_result"
    }
   ],
   "source": [
    "y_pred = model.predict([X_code[idx_train], X_util[idx_train], X_cost[idx_train]], verbose=0).reshape(-1)\n",
    "result(y[idx_train], y_pred)"
   ]
  },
  {
   "cell_type": "code",
   "execution_count": 40,
   "metadata": {},
   "outputs": [
    {
     "data": {
      "text/plain": [
       "(1.0734538543011054,\n",
       " 0.3029623685858661,\n",
       " 1.6168529259402005,\n",
       " 0.5507927112760902)"
      ]
     },
     "execution_count": 40,
     "metadata": {},
     "output_type": "execute_result"
    }
   ],
   "source": [
    "y_pred = model.predict([X_code[idx_test], X_util[idx_test], X_cost[idx_test]], verbose=0).reshape(-1)\n",
    "result(y[idx_test], y_pred)"
   ]
  },
  {
   "cell_type": "code",
   "execution_count": null,
   "metadata": {},
   "outputs": [],
   "source": []
  },
  {
   "cell_type": "code",
   "execution_count": 53,
   "metadata": {},
   "outputs": [],
   "source": [
    "from operator import itemgetter\n",
    "import heapq\n",
    "import matplotlib.pyplot as plt\n",
    "import seaborn as sns\n",
    "\n",
    "\n",
    "def code_attention(p_codes, p_attention):\n",
    "    month_list = []\n",
    "    for v_codes, v_att in zip(p_codes, p_attention):\n",
    "        code2att = {}\n",
    "        for c, att in zip(v_codes, v_att):\n",
    "            if c==0.0:break\n",
    "            code2att[c] = code2att.get(c, 0) + att[0]\n",
    "        top5 = heapq.nlargest(3, code2att.items(), key=itemgetter(1))\n",
    "        month_list.append(top5)\n",
    "    return month_list\n",
    "\n",
    "\n",
    "def visualization(month_list):\n",
    "    vocab = {}\n",
    "    for month in month_list:\n",
    "        for c, att in month:\n",
    "            if c not in vocab:\n",
    "                vocab[c] = len(vocab)\n",
    "            \n",
    "    heatmap = np.zeros((12, len(vocab)))\n",
    "    for i, month in enumerate(month_list):\n",
    "        for c, att in month:\n",
    "            heatmap[i][vocab[c]] = att\n",
    "    return heatmap, vocab\n",
    "\n",
    "def heatmap(data, row_labels, col_labels, ax=None,\n",
    "            cbar_kw={}, cbarlabel=\"\", **kwargs):\n",
    "    if not ax:\n",
    "        ax = plt.gca()\n",
    "\n",
    "    im = ax.imshow(data, **kwargs)\n",
    "\n",
    "    cbar = ax.figure.colorbar(im, ax=ax, **cbar_kw)\n",
    "    cbar.ax.set_ylabel(cbarlabel, rotation=-90, va=\"bottom\")\n",
    "\n",
    "    ax.set_xticks(np.arange(data.shape[1]))\n",
    "    ax.set_yticks(np.arange(data.shape[0]))\n",
    "\n",
    "    ax.set_xticklabels(col_labels)\n",
    "    ax.set_yticklabels(row_labels)\n",
    "\n",
    "    plt.setp(ax.get_xticklabels(), rotation=45, ha=\"right\",\n",
    "             rotation_mode=\"anchor\")\n",
    "\n",
    "    for edge, spine in ax.spines.items():\n",
    "        spine.set_visible(False)\n",
    "\n",
    "    ax.set_xticks(np.arange(data.shape[1]+1)-.5, minor=True)\n",
    "    ax.set_yticks(np.arange(data.shape[0]+1)-.5, minor=True)\n",
    "    ax.grid(which=\"minor\", color=\"w\", linestyle='-', linewidth=1)\n",
    "    ax.tick_params(which=\"minor\", bottom=False, left=False)\n",
    "\n",
    "    return im, cbar\n",
    "\n",
    "def plot_generate(k):\n",
    "    attention = intermediate_layer_model1.predict([X_code[idx_test][k]])[0][1]\n",
    "    \n",
    "    month_list = code_attention(X_code[idx_test][k], attention)\n",
    "    heat, vocab = visualization(month_list)\n",
    "    \n",
    "    row_labels = [\"T\"+str(i) for i in range(12)]\n",
    "    col_labels = [str(int2code[i]).replace(\".\",\"\") for i in vocab.keys()]\n",
    "    heatmap(heat, row_labels=row_labels, col_labels=col_labels, cmap=\"YlGn\", cbarlabel=\"attention weights\")\n",
    "    plt.savefig(\"Figure\" + str(k), dpi=600)\n",
    "    plt.show()"
   ]
  },
  {
   "cell_type": "code",
   "execution_count": 41,
   "metadata": {},
   "outputs": [],
   "source": [
    "from keras.models import Model\n",
    "\n",
    "layer_name1 = 'attention_3'   #names are important!\n",
    "layer_name2 = 'attention_4'\n",
    "layer_name3 = 'attention_5'\n",
    "\n",
    "intermediate_layer_model1 = Model(inputs=codeEncoder.input,\n",
    "                                  outputs=[codeEncoder.get_layer(layer_name1).output])\n",
    "\n",
    "intermediate_layer_model2 = Model(inputs=model.input,\n",
    "                                 outputs=[model.get_layer(layer_name2).output])\n",
    "\n",
    "intermediate_layer_model3 = Model(inputs=model.input,\n",
    "                                 outputs=[model.get_layer(layer_name3).output])"
   ]
  },
  {
   "cell_type": "markdown",
   "metadata": {},
   "source": [
    "# identify high cost patients"
   ]
  },
  {
   "cell_type": "code",
   "execution_count": 61,
   "metadata": {},
   "outputs": [
    {
     "name": "stdout",
     "output_type": "stream",
     "text": [
      "366 10.098335 10.009426950609193 22445.140000000003\n",
      "1131 10.537934 10.866000201072637 51489.199999999975\n",
      "1579 10.115522 9.027457857875094 11993.359999999993\n",
      "2227 10.087166 9.32381368968056 23329.020000000008\n",
      "5924 10.743936 10.627025713253351 49529.48000000001\n",
      "7549 10.296827 10.839304795158425 43070.43000000003\n",
      "10298 10.018154 10.015366973881548 34171.79000000001\n",
      "15928 10.512294 10.404716373950384 19260.159999999996\n",
      "16158 11.67611 10.938162739177931 44439.029999999955\n",
      "17998 10.4836445 10.698256317654343 8589.01\n",
      "18431 10.159397 10.244004099896413 36046.790000000015\n",
      "20307 10.593317 11.464127790772595 61966.330000000016\n",
      "20983 10.034981 10.42040428776026 32544.08999999999\n",
      "21036 10.091591 10.822677078842991 46450.89\n"
     ]
    }
   ],
   "source": [
    "high_idx = []\n",
    "for i, pred in enumerate(y_pred):\n",
    "    if pred>10:\n",
    "        print(i, pred, y[idx_test][i])\n",
    "        high_idx.append(i)"
   ]
  },
  {
   "cell_type": "code",
   "execution_count": null,
   "metadata": {},
   "outputs": [],
   "source": [
    "int2code = {j:i for i,j in zip(code2int.keys(), code2int.values())}"
   ]
  },
  {
   "cell_type": "markdown",
   "metadata": {},
   "source": [
    "# Patient A"
   ]
  },
  {
   "cell_type": "code",
   "execution_count": 64,
   "metadata": {},
   "outputs": [
    {
     "data": {
      "text/plain": [
       "(8589.01, 44277.57999999999, 8, 'F')"
      ]
     },
     "execution_count": 64,
     "metadata": {},
     "output_type": "execute_result"
    }
   ],
   "source": [
    "k = 17998\n",
    "\n",
    "np.array(input_cost_seq)[idx_test][k],\\\n",
    "np.array(target_cost_seq)[idx_test][k],\\\n",
    "np.array(input_age_seq)[idx_test][k],\\\n",
    "np.array(input_sex_seq)[idx_test][k],\\"
   ]
  },
  {
   "cell_type": "code",
   "execution_count": 67,
   "metadata": {},
   "outputs": [
    {
     "data": {
      "text/plain": [
       "43914.50699755354"
      ]
     },
     "execution_count": 67,
     "metadata": {},
     "output_type": "execute_result"
    }
   ],
   "source": [
    "np.e**10.69"
   ]
  },
  {
   "cell_type": "code",
   "execution_count": 65,
   "metadata": {},
   "outputs": [
    {
     "data": {
      "image/png": "[encoded data removed]",
      "text/plain": [
       "<Figure size 432x288 with 2 Axes>"
      ]
     },
     "metadata": {
      "needs_background": "light"
     },
     "output_type": "display_data"
    }
   ],
   "source": [
    "plot_generate(k)"
   ]
  },
  {
   "cell_type": "markdown",
   "metadata": {},
   "source": [
    "# Patient B"
   ]
  },
  {
   "cell_type": "code",
   "execution_count": 68,
   "metadata": {},
   "outputs": [
    {
     "data": {
      "text/plain": [
       "(36046.790000000015, 28112.469999999998, 13, 'F')"
      ]
     },
     "execution_count": 68,
     "metadata": {},
     "output_type": "execute_result"
    }
   ],
   "source": [
    "k = 18431\n",
    "\n",
    "np.array(input_cost_seq)[idx_test][k],\\\n",
    "np.array(target_cost_seq)[idx_test][k],\\\n",
    "np.array(input_age_seq)[idx_test][k],\\\n",
    "np.array(input_sex_seq)[idx_test][k],\\"
   ]
  },
  {
   "cell_type": "code",
   "execution_count": 70,
   "metadata": {},
   "outputs": [
    {
     "data": {
      "text/plain": [
       "(25591.102206689688, 28001.125926231514)"
      ]
     },
     "execution_count": 70,
     "metadata": {},
     "output_type": "execute_result"
    }
   ],
   "source": [
    "np.e**10.15, np.e**10.24"
   ]
  },
  {
   "cell_type": "code",
   "execution_count": 69,
   "metadata": {},
   "outputs": [
    {
     "data": {
      "image/png": "[encoded data removed]",
      "text/plain": [
       "<Figure size 432x288 with 2 Axes>"
      ]
     },
     "metadata": {
      "needs_background": "light"
     },
     "output_type": "display_data"
    }
   ],
   "source": [
    "plot_generate(k)"
   ]
  },
  {
   "cell_type": "code",
   "execution_count": null,
   "metadata": {},
   "outputs": [],
   "source": []
  },
  {
   "cell_type": "code",
   "execution_count": null,
   "metadata": {},
   "outputs": [],
   "source": []
  },
  {
   "cell_type": "code",
   "execution_count": null,
   "metadata": {},
   "outputs": [],
   "source": []
  },
  {
   "cell_type": "code",
   "execution_count": null,
   "metadata": {},
   "outputs": [],
   "source": []
  }
 ],
 "metadata": {
  "kernelspec": {
   "display_name": "Python 3",
   "language": "python",
   "name": "python3"
  },
  "language_info": {
   "codemirror_mode": {
    "name": "ipython",
    "version": 3
   },
   "file_extension": ".py",
   "mimetype": "text/x-python",
   "name": "python",
   "nbconvert_exporter": "python",
   "pygments_lexer": "ipython3",
   "version": "3.7.3"
  }
 },
 "nbformat": 4,
 "nbformat_minor": 2
}
